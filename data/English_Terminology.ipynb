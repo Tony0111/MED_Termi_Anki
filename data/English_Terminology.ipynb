{
 "cells": [
  {
   "cell_type": "code",
   "execution_count": 5,
   "id": "ced5d1ab",
   "metadata": {},
   "outputs": [
    {
     "name": "stdout",
     "output_type": "stream",
     "text": [
      "处理完成！已保存为 Medical_Word_Elements_Cleaned.csv\n"
     ]
    }
   ],
   "source": [
    "import numpy as np\n",
    "import pandas as pd\n",
    "import matplotlib.pyplot as plt\n",
    "# 读取原始文件（假设没有表头）\n",
    "df = pd.read_csv(\n",
    "    \"Medical_Word_Elements.csv\",\n",
    "    header=None,\n",
    "    names=[\"morpheme\", \"meaning_1\", \"meaning_2\", \"meaning_3\", \"meaning_4\"],\n",
    ")\n",
    "\n",
    "# 合并所有 meaning 列\n",
    "df[\"meaning\"] = df[[\"meaning_1\", \"meaning_2\", \"meaning_3\", \"meaning_4\"]].apply(\n",
    "    lambda x: \",\".join([str(i) for i in x if pd.notna(i)]), axis=1\n",
    ")\n",
    "\n",
    "# 清理多余逗号（可选）\n",
    "df[\"meaning\"] = df[\"meaning\"].str.replace(\",,\", \",\")\n",
    "\n",
    "# 只保留 morpheme 和 meaning\n",
    "df = df[[\"morpheme\", \"meaning\"]]\n",
    "\n",
    "# 保存为新的 CSV 文件\n",
    "df.to_csv(\"Medical_Word_Elements_Cleaned.csv\", index=False, encoding=\"utf-8\")\n",
    "\n",
    "print(\"处理完成！已保存为 Medical_Word_Elements_Cleaned.csv\")\n"
   ]
  },
  {
   "cell_type": "code",
   "execution_count": 1,
   "id": "a7ea8752",
   "metadata": {},
   "outputs": [
    {
     "name": "stdout",
     "output_type": "stream",
     "text": [
      "     morpheme                                   meaning\n",
      "0          a-                              not, without\n",
      "1         ab-                                 away from\n",
      "2   abdomin/o                                   abdomen\n",
      "3         -ac                             pertaining to\n",
      "4  acetabul/o               acetabulum, part of hipbone\n",
      "5     acous/o                            sound, hearing\n",
      "6       acr/o                          top, extremities\n",
      "7    acromi/o  acromion, extension of the shoulder bone\n",
      "8     -acusia                abnormal hearing condition\n",
      "9     -acusis                abnormal hearing condition\n"
     ]
    }
   ],
   "source": [
    "import pandas as pd\n",
    "df = pd.read_csv(\"Medical_Word_Elements_Cleaned.csv\")\n",
    "print(df.head(10))"
   ]
  },
  {
   "cell_type": "code",
   "execution_count": 3,
   "id": "67747f67",
   "metadata": {},
   "outputs": [
    {
     "name": "stdout",
     "output_type": "stream",
     "text": [
      "        morpheme           meaning\n",
      "730     poplit/o  back of the knee\n",
      "731      quadri-              four\n",
      "732  sphincter/o         sphincter\n",
      "733      spher/o      sphere, ball\n",
      "734      troph/o       nourishment\n"
     ]
    }
   ],
   "source": [
    "import pandas as pd\n",
    "\n",
    "# 读取CSV文件\n",
    "df = pd.read_csv(\"Medical_Word_Elements_Cleaned.csv\")\n",
    "\n",
    "# 要添加/更新的词素列表\n",
    "morphemes_to_update = [\n",
    "    {'morpheme': '-kinesia', 'meaning': 'movement'},\n",
    "    {'morpheme': '-metry', 'meaning': 'process of measuring'},\n",
    "    {'morpheme': '-tonia', 'meaning': 'tone, pressure'},\n",
    "    {'morpheme': 'axill/o', 'meaning': 'armpit'},\n",
    "    {'morpheme': 'cardiomy/o', 'meaning': 'heart muscle'},\n",
    "    {'morpheme': 'faci/o', 'meaning': 'face'},\n",
    "    {'morpheme': 'hermi/o', 'meaning': 'hernia'},\n",
    "    {'morpheme': 'is/o', 'meaning': 'equal, same'},\n",
    "    {'morpheme': 'myocardi/o', 'meaning': 'heart muscle'},\n",
    "    {'morpheme': 'poplit/o', 'meaning': 'back of the knee'},\n",
    "    {'morpheme': 'quadri-', 'meaning': 'four'},\n",
    "    {'morpheme': 'sphincter/o', 'meaning': 'sphincter'},\n",
    "    {'morpheme': 'spher/o', 'meaning': 'sphere, ball'},\n",
    "    {'morpheme': 'troph/o', 'meaning': 'nourishment'}\n",
    "]\n",
    "\n",
    "# 遍历每个词素\n",
    "for item in morphemes_to_update:\n",
    "    morpheme = item['morpheme']\n",
    "    meaning = item['meaning']\n",
    "    \n",
    "    # 检查词素是否已存在\n",
    "    if morpheme in df['morpheme'].values:\n",
    "        # 更新现有记录\n",
    "        df.loc[df['morpheme'] == morpheme, 'meaning'] = meaning\n",
    "    else:\n",
    "        # 添加新记录\n",
    "        new_row = pd.DataFrame([{'morpheme': morpheme, 'meaning': meaning}])\n",
    "        df = pd.concat([df, new_row], ignore_index=True)\n",
    "\n",
    "# 保存更新后的DataFrame\n",
    "df.to_csv(\"Medical_Word_Elements_Cleaned.csv\", index=False)\n",
    "\n",
    "print(df.tail(5))\n"
   ]
  },
  {
   "cell_type": "code",
   "execution_count": 3,
   "id": "d6d786ea",
   "metadata": {},
   "outputs": [
    {
     "name": "stdout",
     "output_type": "stream",
     "text": [
      "Duplicate morphemes:\n",
      "     morpheme                         meaning\n",
      "560   spin/o  spine, the column of back bone\n"
     ]
    }
   ],
   "source": [
    "# 删除相同项\n",
    "duplicate_morphemes = df[df.duplicated(subset=['morpheme'])]\n",
    "print(\"Duplicate morphemes:\\n\", duplicate_morphemes)\n",
    "df_no_duplicates = df.drop_duplicates()\n",
    "df_no_duplicates.to_csv('Medical_Word_Elements_Cleaned.csv', index=False)"
   ]
  },
  {
   "cell_type": "code",
   "execution_count": null,
   "id": "8e33557c",
   "metadata": {},
   "outputs": [
    {
     "name": "stdout",
     "output_type": "stream",
     "text": [
      "Index(['morpheme', 'meaning'], dtype='object')\n"
     ]
    }
   ],
   "source": [
    "import pandas as pd\n",
    "df = pd.read_csv('Medical_Word_Elements_Cleaned.csv',sep = ',')\n",
    "# print(len(df))\n"
   ]
  }
 ],
 "metadata": {
  "kernelspec": {
   "display_name": "Python 3",
   "language": "python",
   "name": "python3"
  },
  "language_info": {
   "codemirror_mode": {
    "name": "ipython",
    "version": 3
   },
   "file_extension": ".py",
   "mimetype": "text/x-python",
   "name": "python",
   "nbconvert_exporter": "python",
   "pygments_lexer": "ipython3",
   "version": "3.12.4"
  }
 },
 "nbformat": 4,
 "nbformat_minor": 5
}
